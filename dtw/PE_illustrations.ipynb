{
 "cells": [
  {
   "cell_type": "code",
   "execution_count": null,
   "metadata": {},
   "outputs": [],
   "source": [
    "import matplotlib.pyplot as plt\n",
    "import matplotlib.dates as mdates\n",
    "from notebook_utils import *\n",
    "import numpy as np\n",
    "import pickle\n",
    "import zarr\n",
    "from datetime import datetime\n",
    "from dtaidistance import dtw, dtw_ndim, dtw_visualisation"
   ]
  },
  {
   "cell_type": "code",
   "execution_count": null,
   "metadata": {},
   "outputs": [],
   "source": [
    "# CONSTANTS\n",
    "AT1=\"austria/33UVP/2017\"\n",
    "DK1=\"denmark/32VNH/2017\"\n",
    "FR1=\"france/31TCJ/2017\"\n",
    "FR2=\"france/30TXT/2017\"\n",
    "\n",
    "region_aliases = {\n",
    "    AT1: \"AT1\",\n",
    "    DK1: \"DK1\",\n",
    "    FR1: \"FR1\",\n",
    "    FR2: \"FR2\"\n",
    "}\n",
    "\n",
    "pos_type_aliases = {\n",
    "    \"rnn\": \"pe_recurrent\"\n",
    "}\n",
    "\n",
    "classes = sorted([\"corn\", \"horsebeans\", \"meadow\", \"spring_barley\", \"unknown\",\n",
    "                   \"winter_barley\", \"winter_rapeseed\", \"winter_triticale\", \"winter_wheat\"])\n"
   ]
  },
  {
   "attachments": {},
   "cell_type": "markdown",
   "metadata": {},
   "source": [
    "Define experiments parameters here. (Source region(s), target and type of positional encoding)"
   ]
  },
  {
   "cell_type": "code",
   "execution_count": null,
   "metadata": {},
   "outputs": [],
   "source": [
    "# EXPERIMENT PARAMETERS\n",
    "SOURCE = [AT1] # Source tile(s) parameter must be enclosed in a list as per code convention\n",
    "TARGET = FR2\n",
    "POS_TYPE = \"rnn\"\n",
    "\n",
    "# Select crop_id for which to generate illustrations\n",
    "crop_id = classes.index(\"winter_barley\")\n",
    "\n",
    "# Set the path to the timematch dataset\n",
    "data_root = \"../../data/timematch_data/\""
   ]
  },
  {
   "cell_type": "code",
   "execution_count": null,
   "metadata": {},
   "outputs": [],
   "source": [
    "SOURCE_STR = \"+\".join([region_aliases[s] for s in SOURCE])\n",
    "EXP = f\"pseltae_{SOURCE_STR}_{pos_type_aliases[POS_TYPE]}\"\n",
    "\n",
    "config = create_config(EXP, SOURCE, TARGET, POS_TYPE, data_root)\n",
    "\n",
    "print(\"Loading data...\")\n",
    "source_loader = create_train_loader(config.source, config)\n",
    "target_test_loader = create_test_loader(config.target, config, random_sample_time_steps=False)\n",
    "\n",
    "device = torch.device(\"cuda\" if torch.cuda.is_available() else \"cpu\")\n",
    "\n",
    "print(\"Loading model...\")\n",
    "output_dir = os.path.join(\"../outputs\", config.experiment_name)\n",
    "fold_dir = os.path.join(output_dir, \"fold_0\")\n",
    "model = load_model(config, fold_dir, device)"
   ]
  },
  {
   "cell_type": "code",
   "execution_count": null,
   "metadata": {},
   "outputs": [],
   "source": [
    "source_data_filename = f\"{config.output_dir}/{classes[crop_id]}_source_data.pkl\"\n",
    "\n",
    "if os.path.exists(source_data_filename):\n",
    "    with open(source_data_filename, \"rb\") as f:\n",
    "        source_data = pickle.load(f)\n",
    "else:\n",
    "    source_data = get_crop_data(crop_id, source_loader, model, device)\n",
    "    with open(source_data_filename, \"wb\") as f:\n",
    "        pickle.dump(source_data, f)"
   ]
  },
  {
   "cell_type": "code",
   "execution_count": null,
   "metadata": {},
   "outputs": [],
   "source": [
    "target_data_filename = f\"{config.output_dir}/{region_aliases[TARGET]}_{classes[crop_id]}_target_data.pkl\"\n",
    "\n",
    "if os.path.exists(target_data_filename):\n",
    "    with open(target_data_filename, \"rb\") as f:\n",
    "        target_data = pickle.load(f)\n",
    "else:\n",
    "    target_data = get_crop_data(crop_id, target_test_loader, model, device)\n",
    "    with open(target_data_filename, \"wb\") as f:\n",
    "        pickle.dump(target_data, f)"
   ]
  },
  {
   "cell_type": "code",
   "execution_count": null,
   "metadata": {},
   "outputs": [],
   "source": [
    "# Once the data is loaded, we compute a DTW distance matrix to find the most dissimilar PE\n",
    "dtw_matrix_filename = f\"{config.output_dir}/{region_aliases[TARGET]}_{classes[crop_id]}_dtw_distance_matrix.pkl\"\n",
    "if not os.path.exists(dtw_matrix_filename):\n",
    "\n",
    "    dtw_distance_matrix = np.zeros((len(source_data), len(target_data)))\n",
    "    for i in tqdm(range(len(source_data))):\n",
    "        for j in range(len(target_data)):\n",
    "            dtw_distance_matrix[i][j] = dtw_ndim.distance_fast(source_data[i][\"pe\"], target_data[j][\"pe\"])\n",
    "\n",
    "    with open(dtw_matrix_filename, \"wb\") as f:\n",
    "        pickle.dump(dtw_distance_matrix, f)\n",
    "else:\n",
    "    with open(dtw_matrix_filename, \"rb\") as f:\n",
    "        dtw_distance_matrix = pickle.load(f)"
   ]
  },
  {
   "cell_type": "code",
   "execution_count": null,
   "metadata": {},
   "outputs": [],
   "source": [
    "# Get the indices of the samples with the highest DTW distance\n",
    "argmax = dtw_distance_matrix.argmax()\n",
    "source_sample_id = argmax // len(target_data)\n",
    "target_sample_id = argmax % len(target_data)"
   ]
  },
  {
   "cell_type": "code",
   "execution_count": null,
   "metadata": {},
   "outputs": [],
   "source": [
    "def get_date_positions(dataset, loader):\n",
    "    folder = os.path.join(config.data_root, dataset)\n",
    "    meta_folder = os.path.join(folder, \"meta\")\n",
    "    metadata = pickle.load(open(os.path.join(meta_folder, \"metadata.pkl\"), \"rb\"))\n",
    "    # dataset dates in format  yyyymmdd (int)\n",
    "    dates = metadata[\"dates\"]\n",
    "    # corresponding calendar times\n",
    "    date_positions = loader.dataset.days_after(metadata[\"start_date\"], dates)\n",
    "    return dates, date_positions\n",
    "\n",
    "dates_source, date_positions_source = get_date_positions(config.source[0], source_loader)\n",
    "print(config.target)\n",
    "dates_target, date_positions_target = get_date_positions(config.target, target_test_loader)\n",
    "\n",
    "str_dates_source = [str(d) for d in dates_source]\n",
    "dates_sources = [\"-\".join([d[:4], d[4:6], d[6:]]) for d in str_dates_source]\n",
    "\n",
    "str_dates_target = [str(d) for d in dates_target]\n",
    "dates_target= [\"-\".join([d[:4], d[4:6], d[6:]]) for d in str_dates_target]"
   ]
  },
  {
   "cell_type": "code",
   "execution_count": null,
   "metadata": {},
   "outputs": [],
   "source": [
    "def load_raw_pixels(loader, data, sample_id):\n",
    "    raw_index = data[sample_id][\"index\"]\n",
    "    raw_path, _, _, _, _, _ = loader.dataset.samples[raw_index]\n",
    "    raw_pixels = zarr.load(raw_path)\n",
    "    return raw_pixels"
   ]
  },
  {
   "cell_type": "code",
   "execution_count": null,
   "metadata": {},
   "outputs": [],
   "source": [
    "raw_source_pixels = load_raw_pixels(source_loader, source_data, source_sample_id)\n",
    "raw_target_pixels = load_raw_pixels(target_test_loader, target_data, target_sample_id)\n",
    "\n",
    "# For illustration, we sample a random pixel from the source and target parcels (Each comprised of multiple pixels)\n",
    "num_pixels_source = raw_source_pixels.shape[-1]\n",
    "num_pixels_target = raw_target_pixels.shape[-1]\n",
    "pixel_id_source =  np.random.randint(num_pixels_source)\n",
    "pixel_id_target =  np.random.randint(num_pixels_target)\n",
    "\n",
    "raw_source_pixel = raw_source_pixels[:, :, pixel_id_source]\n",
    "raw_target_pixel = raw_target_pixels[:, :, pixel_id_target]\n",
    "\n",
    "np.savetxt(f\"{config.output_dir}/raw_source_pixel_{config.classes[crop_id]}.csv\", raw_source_pixel, delimiter=\",\")\n",
    "np.savetxt(f\"{config.output_dir}/raw_target_pixel_{region_aliases[TARGET]}_{config.classes[crop_id]}.csv\",\n",
    "            raw_source_pixel, delimiter=\",\")\n",
    "\n",
    "combined_data_source = np.vstack((dates_sources, raw_source_pixel.T)).T\n",
    "np.savetxt(f\"{config.output_dir}/raw_source_pixel+dates_{config.classes[crop_id]}.csv\", combined_data_source, delimiter=\",\", fmt=\"%s\")\n",
    "\n",
    "combined_data_target = np.vstack((dates_target, raw_target_pixel.T)).T\n",
    "np.savetxt(f\"{config.output_dir}/raw_target_pixel+dates_{config.classes[crop_id]}.csv\", combined_data_target, delimiter=\",\", fmt=\"%s\")"
   ]
  },
  {
   "cell_type": "code",
   "execution_count": null,
   "metadata": {},
   "outputs": [],
   "source": [
    "bands = [\"B02\", \"B03\", \"B04\", \"B05\", \"B06\", \"B07\", \"B08\", \"B8A\", \"B11\", \"B12\"]"
   ]
  },
  {
   "cell_type": "code",
   "execution_count": null,
   "metadata": {},
   "outputs": [],
   "source": [
    "fig, ax = plt.subplots(1, 1, figsize=(8, 4))\n",
    "dates = [datetime.strptime(date, \"%Y-%m-%d\") for date in dates_sources]\n",
    "\n",
    "for channel in range(raw_source_pixel.shape[1]):\n",
    "    series = raw_source_pixel[:, channel]\n",
    "    ax.set_title(f\"Input time series of a pixel of class {config.classes[crop_id]}\")\n",
    "    ax.set_xlabel(\"Time\")\n",
    "    ax.set_ylabel(\"Reflectance\")\n",
    "    ax.plot(dates, series)\n",
    "\n",
    "ax.tick_params(axis=\"x\", labelrotation=45)\n",
    "ax.xaxis.set_major_locator(plt.MaxNLocator(15))\n",
    "ax.autoscale(tight=True)\n",
    "ax.legend(bands)\n",
    "plt.savefig(f\"./{config.output_dir}/{EXP}_source_{SOURCE_STR}_{config.classes[crop_id]}.png\")\n",
    "plt.show()"
   ]
  },
  {
   "cell_type": "code",
   "execution_count": null,
   "metadata": {},
   "outputs": [],
   "source": [
    "fig, ax = plt.subplots(1, 1, figsize=(8, 4))\n",
    "\n",
    "pixel = raw_target_pixel\n",
    "num_channels = pixel.shape[1]\n",
    "\n",
    "dates = [datetime.strptime(date, \"%Y-%m-%d\") for date in dates_target]\n",
    "for channel in range(num_channels):\n",
    "    series = pixel[:, channel]\n",
    "    ax.set_title(f\"Input time series of a pixel of class {config.classes[crop_id]}\")\n",
    "    ax.set_xlabel(\"Time\")\n",
    "    ax.set_ylabel(\"Reflectance\")\n",
    "    ax.plot(dates, series)\n",
    "\n",
    "ax.tick_params(axis=\"x\", labelrotation=45)\n",
    "ax.xaxis.set_major_locator(plt.MaxNLocator(15))\n",
    "ax.autoscale(tight=True)\n",
    "ax.legend(bands)\n",
    "plt.savefig(f\"./{config.output_dir}/{EXP}_target_{region_aliases[TARGET]}_{config.classes[crop_id]}.png\")\n",
    "plt.show()"
   ]
  },
  {
   "cell_type": "code",
   "execution_count": null,
   "metadata": {},
   "outputs": [],
   "source": [
    "red = bands.index(\"B04\")\n",
    "nir = bands.index(\"B08\")\n",
    "\n",
    "NDVI = lambda x: (x[:, nir] - x[:, red]) / (x[:, nir] + x[:, red])"
   ]
  },
  {
   "cell_type": "code",
   "execution_count": null,
   "metadata": {},
   "outputs": [],
   "source": [
    "fig, ax = plt.subplots(1, 1, figsize=(8, 4))\n",
    "\n",
    "ndvi_source = NDVI(np.mean(raw_source_pixels, axis=-1))\n",
    "ndvi_target = NDVI(np.mean(raw_target_pixels, axis=-1))\n",
    "\n",
    "dt_source = [datetime.strptime(date, \"%Y-%m-%d\") for date in dates_sources]\n",
    "dt_target = [datetime.strptime(date, \"%Y-%m-%d\") for date in dates_target]\n",
    "\n",
    "plt.plot(dt_source, ndvi_source, label=\"Source\")\n",
    "plt.plot(dt_target, ndvi_target, label=\"Target\")\n",
    "\n",
    "ax.set_title(f\"NDVI of parcels of class {config.classes[crop_id]}\")\n",
    "ax.set_xlabel(\"Time\")\n",
    "ax.set_ylabel(\"NDVI\")\n",
    "ax.tick_params(axis=\"x\", labelrotation=45)\n",
    "ax.xaxis.set_major_locator(plt.MaxNLocator(15))\n",
    "ax.autoscale(tight=True)\n",
    "plt.legend()\n",
    "\n",
    "plt.savefig(f\"./{config.output_dir}/{EXP}_source_NDVI_{config.classes[crop_id]}.png\")\n",
    "plt.show()"
   ]
  },
  {
   "cell_type": "code",
   "execution_count": null,
   "metadata": {},
   "outputs": [],
   "source": [
    "pe_source = source_data[source_sample_id][\"pe\"]\n",
    "pe_source = pe_source.T\n",
    "\n",
    "fig, ax = plt.subplots(1, 1, figsize=(4, 8))\n",
    "plt.title(f\"Positional encoding of a parcel of class {config.classes[crop_id]}\")\n",
    "plt.xlabel(\"Sequence index t\")\n",
    "plt.ylabel(\"Dimension\")\n",
    "plt.imshow(pe_source)\n",
    "plt.colorbar(orientation=\"horizontal\")\n",
    "\n",
    "plt.savefig(f\"./{config.output_dir}/{EXP}_source_pe_{config.classes[crop_id]}.png\")\n",
    "plt.show()"
   ]
  },
  {
   "cell_type": "code",
   "execution_count": null,
   "metadata": {},
   "outputs": [],
   "source": [
    "pe_target = target_data[target_sample_id][\"pe\"]\n",
    "pe_target = pe_target.T\n",
    "\n",
    "fig, ax = plt.subplots(1, 1, figsize=(8, 5))\n",
    "plt.title(f\"PE of a parcel of class {config.classes[crop_id]} in the target {region_aliases[TARGET]} tile\")\n",
    "plt.xlabel(\"Sequence index t\")\n",
    "plt.ylabel(\"Dimension\")\n",
    "plt.imshow(pe_target)\n",
    "plt.colorbar(orientation=\"horizontal\")\n",
    "\n",
    "plt.savefig(f\"./{config.output_dir}/{EXP}_target_{region_aliases[TARGET]}_pe_{config.classes[crop_id]}.png\")\n",
    "plt.show()"
   ]
  },
  {
   "cell_type": "code",
   "execution_count": null,
   "metadata": {},
   "outputs": [],
   "source": [
    "fig, (ax1, ax2) = plt.subplots(1, 2, sharey=True, figsize=(15, 5))\n",
    "\n",
    "\n",
    "ax1.set_title(f\"PE of a parcel of class {config.classes[crop_id]} in the source {SOURCE_STR} tile\")\n",
    "ax2.set_title(f\"PE of a parcel of class {config.classes[crop_id]} in the target {region_aliases[TARGET]} tile\")\n",
    "\n",
    "ax1.set_xlabel(\"Sequence index t\")\n",
    "ax2.set_xlabel(\"Sequence index t\")\n",
    "ax1.set_ylabel(\"Dimension\")\n",
    "ax2.set_ylabel(\"Dimension\")\n",
    "\n",
    "\n",
    "extent_target = [mdates.date2num(dt_target[0]), mdates.date2num(dt_target[-1]), 0, pe_target.shape[0]]\n",
    "extent_source = [mdates.date2num(dt_source[0]), mdates.date2num(dt_source[-1]), 0, pe_source.shape[0]]\n",
    "\n",
    "im1 = ax1.imshow(pe_source, cmap=\"viridis\", aspect=\"auto\", extent=extent_source)\n",
    "im2 = ax2.imshow(pe_target[:, :30], cmap=\"viridis\", aspect=\"auto\", extent=extent_target)\n",
    "\n",
    "desired_num_ticks = 15\n",
    "\n",
    "for ax in (ax1, ax2):\n",
    "    ax.xaxis_date()\n",
    "    ax.xaxis.set_major_formatter(mdates.DateFormatter(\"%d/%m\"))\n",
    "    ax.xaxis.set_major_locator(plt.MaxNLocator(desired_num_ticks))\n",
    "\n",
    "    for tick in ax.get_xticklabels():\n",
    "        tick.set_rotation(45)\n",
    "\n",
    "\n",
    "\n",
    "fig.colorbar(im2, ax=[ax1, ax2])\n",
    "out_dir = f\"./highlight/{config.experiment_name}\"\n",
    "os.makedirs(out_dir, exist_ok=True)\n",
    "\n",
    "plt.savefig(f\"./{out_dir}/pe_{SOURCE_STR}_{region_aliases[TARGET]}_{config.classes[crop_id]}.png\")\n",
    "plt.savefig(f\"./{out_dir}/pe_{SOURCE_STR}_{region_aliases[TARGET]}_{config.classes[crop_id]}.svg\")\n",
    "\n",
    "plt.show()"
   ]
  },
  {
   "cell_type": "code",
   "execution_count": null,
   "metadata": {},
   "outputs": [],
   "source": [
    "fig, ax = plt.subplots(1, 1, sharey=True, figsize=(8, 5))\n",
    "ax.set_title(f\"PE of a parcel of class {config.classes[crop_id]} in the source {region_aliases[TARGET]} tile\")\n",
    "ax.set_xlabel(\"Time\")\n",
    "ax.set_ylabel(\"Dimension\")\n",
    "\n",
    "\n",
    "extent = [mdates.date2num(dt_target[0]), mdates.date2num(dt_target[-1]), 0, pe_target.shape[0]]\n",
    "\n",
    "im1 = ax.imshow(pe_target[:, :30], cmap=\"viridis\", aspect=\"auto\", extent=extent)\n",
    "\n",
    "ax.xaxis_date()\n",
    "desired_num_ticks = 15\n",
    "ax.xaxis.set_major_formatter(mdates.DateFormatter(\"%d/%m\"))\n",
    "ax.xaxis.set_major_locator(plt.MaxNLocator(desired_num_ticks))\n",
    "\n",
    "for tick in ax.get_xticklabels():\n",
    "    tick.set_rotation(45)\n",
    "\n",
    "fig.colorbar(im1, ax=ax)\n",
    "\n",
    "out_dir = f\"./highlight/{config.experiment_name}\"\n",
    "os.makedirs(out_dir, exist_ok=True)\n",
    "\n",
    "plt.savefig(f\"./{out_dir}/pe_{region_aliases[TARGET]}_{config.classes[crop_id]}.png\")\n",
    "plt.savefig(f\"./{out_dir}/pe_{region_aliases[TARGET]}_{config.classes[crop_id]}.svg\")\n",
    "\n",
    "plt.show()"
   ]
  },
  {
   "cell_type": "code",
   "execution_count": null,
   "metadata": {},
   "outputs": [],
   "source": [
    "fig, ax = plt.subplots(1, 1, sharey=True, figsize=(8, 5))\n",
    "\n",
    "\n",
    "ax.set_title(f\"PE of a parcel of class {config.classes[crop_id]} in the source {SOURCE_STR} tile\")\n",
    "ax.set_xlabel(\"Time\")\n",
    "ax.set_ylabel(\"Dimension\")\n",
    "\n",
    "extent = [mdates.date2num(dt_source[0]), mdates.date2num(dt_source[-1]), 0, pe_source.shape[0]]\n",
    "\n",
    "im1 = ax.imshow(pe_target[:, :30], cmap=\"viridis\", aspect=\"auto\", extent=extent)\n",
    "\n",
    "ax.xaxis_date()\n",
    "desired_num_ticks = 15\n",
    "ax.xaxis.set_major_formatter(mdates.DateFormatter(\"%d/%m\"))\n",
    "ax.xaxis.set_major_locator(plt.MaxNLocator(desired_num_ticks))\n",
    "\n",
    "for tick in ax.get_xticklabels():\n",
    "    tick.set_rotation(45)\n",
    "\n",
    "\n",
    "fig.colorbar(im1, ax=ax)\n",
    "\n",
    "out_dir = f\"./highlight/{config.experiment_name}\"\n",
    "os.makedirs(out_dir, exist_ok=True)\n",
    "\n",
    "plt.savefig(f\"./{out_dir}/pe_{SOURCE_STR}_{config.classes[crop_id]}.png\")\n",
    "plt.savefig(f\"./{out_dir}/pe_{SOURCE_STR}_{config.classes[crop_id]}.svg\")\n",
    "\n",
    "plt.show()"
   ]
  },
  {
   "cell_type": "code",
   "execution_count": null,
   "metadata": {},
   "outputs": [],
   "source": [
    "fig, ax = plt.subplots(1, 1, figsize=(5, 5))\n",
    "diff = pe_source - pe_target[:, :30]\n",
    "im = ax.imshow(np.abs(diff))\n",
    "\n",
    "ax.set_aspect(float(pe_source.shape[1]) / float(pe_target.shape[0])) \n",
    "fig.colorbar(im, ax=ax)\n",
    "\n",
    "plt.show()"
   ]
  },
  {
   "cell_type": "code",
   "execution_count": null,
   "metadata": {},
   "outputs": [],
   "source": [
    "_, raw_warping_paths = dtw_ndim.warping_paths(raw_source_pixel, raw_target_pixel)\n",
    "\n",
    "\n",
    "fig, ax = dtw_visualisation.plot_warpingpaths(raw_source_pixel, raw_target_pixel, raw_warping_paths, showlegend=True,\n",
    "                                    s1_title=f\"Source pixel series\",\n",
    "                                    s2_title=f\"Target pixel series\",\n",
    "                                    )\n",
    "plt.savefig(f\"./{config.output_dir}/{EXP}_warping_path_{config.classes[crop_id]}.png\")\n",
    "plt.show()"
   ]
  },
  {
   "cell_type": "code",
   "execution_count": null,
   "metadata": {},
   "outputs": [],
   "source": [
    "_, ndvi_warping_paths = dtw.warping_paths(ndvi_source, ndvi_target)\n",
    "\n",
    "fig, ax = dtw_visualisation.plot_warpingpaths(ndvi_source, ndvi_target, ndvi_warping_paths, showlegend=True,\n",
    "                                    s1_title=f\"Source NDVI\",\n",
    "                                    s2_title=f\"Target NDVI\",\n",
    "                                    )\n",
    "plt.savefig(f\"./{config.output_dir}/{EXP}_warping_path_NDVI_{config.classes[crop_id]}.png\")\n",
    "plt.show()"
   ]
  },
  {
   "cell_type": "code",
   "execution_count": null,
   "metadata": {},
   "outputs": [],
   "source": [
    "best_path = dtw.best_path(ndvi_warping_paths)\n",
    "warped_ndvi, path = dtw.warp(ndvi_source, ndvi_target, best_path)\n",
    "dtw_visualisation.plot_warp(ndvi_source, ndvi_target, warped_ndvi, path)\n",
    "plt.show()"
   ]
  },
  {
   "cell_type": "code",
   "execution_count": null,
   "metadata": {},
   "outputs": [],
   "source": [
    "_, pe_warping_paths = dtw_ndim.warping_paths(pe_source.T, pe_target.T)\n",
    "path = dtw.best_path(pe_warping_paths)\n",
    "\n",
    "fig, ax = plot_warpingpaths(pe_source, pe_target, pe_warping_paths, path, showlegend=True,\n",
    "                            s1_title=f\"Source PE\",\n",
    "                            s2_title=f\"Target PE\",\n",
    "                            )\n",
    "plt.savefig(\n",
    "    f\"./{config.output_dir}/{EXP}_warping_path_pe_{config.classes[crop_id]}.png\")\n",
    "\n",
    "plt.savefig(\n",
    "    f\"./{out_dir}/{EXP}_warping_path_pe_{config.classes[crop_id]}.svg\")\n",
    "plt.show()\n"
   ]
  }
 ],
 "metadata": {
  "kernelspec": {
   "display_name": "timematch",
   "language": "python",
   "name": "python3"
  },
  "language_info": {
   "codemirror_mode": {
    "name": "ipython",
    "version": 3
   },
   "file_extension": ".py",
   "mimetype": "text/x-python",
   "name": "python",
   "nbconvert_exporter": "python",
   "pygments_lexer": "ipython3",
   "version": "3.9.4"
  },
  "orig_nbformat": 4
 },
 "nbformat": 4,
 "nbformat_minor": 2
}
